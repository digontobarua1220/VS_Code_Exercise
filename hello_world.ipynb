{
 "cells": [
  {
   "cell_type": "code",
   "execution_count": 1,
   "metadata": {},
   "outputs": [
    {
     "name": "stdout",
     "output_type": "stream",
     "text": [
      "Hello World! I am running this from VS Code!\n"
     ]
    }
   ],
   "source": [
    "print(\"Hello World! I am running this from VS Code!\")"
   ]
  }
 ],
 "metadata": {
  "interpreter": {
   "hash": "77e4a0de727f701ccf3e2c6fbb8c1cea795ae68e321b3e621ec50bf3021c6d9e"
  },
  "kernelspec": {
   "display_name": "Python 3.10.0 64-bit",
   "name": "python3"
  },
  "language_info": {
   "codemirror_mode": {
    "name": "ipython",
    "version": 3
   },
   "file_extension": ".py",
   "mimetype": "text/x-python",
   "name": "python",
   "nbconvert_exporter": "python",
   "pygments_lexer": "ipython3",
   "version": "3.10.0"
  },
  "orig_nbformat": 4
 },
 "nbformat": 4,
 "nbformat_minor": 2
}
